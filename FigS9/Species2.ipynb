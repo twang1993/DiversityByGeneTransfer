{
 "cells": [
  {
   "cell_type": "code",
   "execution_count": 1,
   "metadata": {},
   "outputs": [],
   "source": [
    "import matplotlib.pyplot as plt\n",
    "import numpy as np\n",
    "import scipy as sp\n",
    "from scipy.integrate import solve_ivp"
   ]
  },
  {
   "cell_type": "code",
   "execution_count": 2,
   "metadata": {},
   "outputs": [],
   "source": [
    "global mu,gamma,D,eta,kappa,NumSpecies"
   ]
  },
  {
   "cell_type": "code",
   "execution_count": 3,
   "metadata": {},
   "outputs": [],
   "source": [
    "def TwoSpeciesHGT(t,y):\n",
    "    dydt=np.zeros(2*NumSpecies)\n",
    "    for i in range(NumSpecies):\n",
    "        dydt[i]=mu[i]*y[i+NumSpecies]*(1-gamma*(sum(y[np.arange(0,NumSpecies,1)])-y[i])-y[i])-D*y[i]\n",
    "        if i==0:\n",
    "            dydt[i+NumSpecies]=dydt[i]\n",
    "        else:\n",
    "            dydt[i+NumSpecies]=mu[i]*y[i+NumSpecies]*(1-gamma*(sum((y[np.arange(0,NumSpecies,1)]))-y[i])-y[i])+eta*(y[i]-y[i+NumSpecies])*sum(y[np.arange(NumSpecies,2*NumSpecies,1)])-kappa*y[NumSpecies+i]-D*y[i+NumSpecies]\n",
    "    return dydt"
   ]
  },
  {
   "cell_type": "code",
   "execution_count": 4,
   "metadata": {},
   "outputs": [],
   "source": [
    "def GetPositive(input):\n",
    "    temp=[]\n",
    "    for i in input:\n",
    "        if i>10**(-8):\n",
    "            temp.append(i)\n",
    "    return temp"
   ]
  },
  {
   "cell_type": "code",
   "execution_count": 5,
   "metadata": {},
   "outputs": [],
   "source": [
    "NumSpecies=2\n",
    "gammas=[0.8,0.9,0.99]\n",
    "D=0.2\n",
    "etas=np.arange(0,0.6,0.1)\n",
    "kappa=0.05\n",
    "timespan=np.arange(0,201,1)\n",
    "\n",
    "mu=0.5*np.ones(NumSpecies)\n",
    "\n",
    "initial=np.zeros(2*NumSpecies)\n",
    "initial[range(NumSpecies)]=1/NumSpecies\n",
    "initial[NumSpecies]=initial[0]\n",
    "diver=np.zeros((len(gammas),len(etas)))\n",
    "for k in range(len(gammas)):\n",
    "    gamma=gammas[k]\n",
    "    for j in range(len(etas)):\n",
    "        eta=etas[j]\n",
    "        sol=solve_ivp(TwoSpeciesHGT,[0,max(timespan)],initial,method='RK45',t_eval=timespan)\n",
    "        y=np.transpose(sol.y)\n",
    "        temp=y[-1,range(NumSpecies)]\n",
    "        temp=GetPositive(temp)\n",
    "        temp=temp/sum(temp)\n",
    "        diver[k,j]=np.exp(sum(np.multiply(-temp,np.log(temp))))\n"
   ]
  },
  {
   "cell_type": "code",
   "execution_count": 6,
   "metadata": {},
   "outputs": [
    {
     "data": {
      "image/png": "[encoded data removed]",
      "text/plain": [
       "<Figure size 200x200 with 1 Axes>"
      ]
     },
     "metadata": {},
     "output_type": "display_data"
    }
   ],
   "source": [
    "plt.figure(figsize=(2,2))\n",
    "for i in range(len(gammas)):\n",
    "    if i==0:\n",
    "        plt.plot(etas,diver[i,:],'o-',markersize=7,fillstyle='none',color=(0.3467,0.5360,0.6907))\n",
    "    if i==1:\n",
    "        plt.plot(etas,diver[i,:],'o-',markersize=7,fillstyle='none',color=(0.9153,0.2816,0.2878))\n",
    "    if i==2:\n",
    "        plt.plot(etas,diver[i,:],'o-',markersize=7,fillstyle='none',color=(0.4416,0.7490,0.4322))\n",
    "plt.xlabel('transfer rate eta',fontsize=20)\n",
    "plt.ylabel('diversity',fontsize=20)\n",
    "plt.ylim(1,8.1)\n",
    "plt.tick_params(direction='in',top='true',right='true')\n",
    "plt.savefig('Species2.pdf')\n",
    "plt.show()"
   ]
  },
  {
   "cell_type": "code",
   "execution_count": 7,
   "metadata": {},
   "outputs": [],
   "source": [
    "import pandas as pd\n",
    "df=pd.DataFrame(diver)\n",
    "df.to_csv(\"Species2.csv\")"
   ]
  }
 ],
 "metadata": {
  "kernelspec": {
   "display_name": "Python 3",
   "language": "python",
   "name": "python3"
  },
  "language_info": {
   "codemirror_mode": {
    "name": "ipython",
    "version": 3
   },
   "file_extension": ".py",
   "mimetype": "text/x-python",
   "name": "python",
   "nbconvert_exporter": "python",
   "pygments_lexer": "ipython3",
   "version": "3.11.3"
  }
 },
 "nbformat": 4,
 "nbformat_minor": 2
}
