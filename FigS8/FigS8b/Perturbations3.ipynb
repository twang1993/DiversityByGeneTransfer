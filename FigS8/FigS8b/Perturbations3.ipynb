{
 "cells": [
  {
   "cell_type": "code",
   "execution_count": 1,
   "metadata": {},
   "outputs": [],
   "source": [
    "import matplotlib.pyplot as plt\n",
    "import numpy as np\n",
    "import scipy as sp\n",
    "from scipy.integrate import solve_ivp"
   ]
  },
  {
   "cell_type": "code",
   "execution_count": 2,
   "metadata": {},
   "outputs": [],
   "source": [
    "global NumSpecies,mu,gamma,D"
   ]
  },
  {
   "cell_type": "code",
   "execution_count": 3,
   "metadata": {},
   "outputs": [],
   "source": [
    "def GetPositive(input):\n",
    "    temp=[]\n",
    "    for i in input:\n",
    "        if i>0:\n",
    "            temp.append(i)\n",
    "    return temp"
   ]
  },
  {
   "cell_type": "code",
   "execution_count": 4,
   "metadata": {},
   "outputs": [],
   "source": [
    "def MultiSpecies(t,y):\n",
    "    global NumSpecies,mu,gamma,D\n",
    "    dydt=np.zeros(NumSpecies)\n",
    "    for i in range(NumSpecies):\n",
    "            sumy=0\n",
    "            for j in range(NumSpecies):\n",
    "                sumy=sumy+y[j]\n",
    "            dydt[i]=mu[i]*y[i]*(1-(gamma*sumy-gamma*y[i]+y[i]))-D*y[i]\n",
    "    return dydt"
   ]
  },
  {
   "cell_type": "code",
   "execution_count": 5,
   "metadata": {},
   "outputs": [
    {
     "name": "stdout",
     "output_type": "stream",
     "text": [
      "0\n",
      "1\n",
      "2\n",
      "3\n",
      "4\n",
      "5\n",
      "6\n",
      "7\n",
      "8\n",
      "9\n",
      "10\n",
      "11\n",
      "12\n",
      "13\n",
      "14\n",
      "15\n",
      "16\n",
      "17\n",
      "18\n",
      "19\n",
      "20\n",
      "21\n",
      "22\n",
      "23\n",
      "24\n",
      "25\n",
      "26\n",
      "27\n",
      "28\n",
      "29\n",
      "30\n",
      "31\n",
      "32\n",
      "33\n",
      "34\n",
      "35\n",
      "36\n",
      "37\n",
      "38\n",
      "39\n",
      "40\n",
      "41\n",
      "42\n",
      "43\n",
      "44\n",
      "45\n",
      "46\n",
      "47\n",
      "48\n",
      "49\n"
     ]
    },
    {
     "data": {
      "image/png": "[encoded data removed]",
      "text/plain": [
       "<Figure size 300x300 with 1 Axes>"
      ]
     },
     "metadata": {},
     "output_type": "display_data"
    }
   ],
   "source": [
    "plt.figure(figsize=(3,3))\n",
    "for repeat in range(50):\n",
    "    print(repeat)\n",
    "    NumSpecies=20\n",
    "    mu0=0.5\n",
    "    mu=mu0*(0.5+1*np.random.rand(NumSpecies))\n",
    "    D=0.2\n",
    "    gamma=0.9\n",
    "    \n",
    "    initial=np.zeros(NumSpecies)\n",
    "    for i in range(NumSpecies):\n",
    "        initial[i]=1/NumSpecies\n",
    "    \n",
    "    cycles=30\n",
    "    durations=15+15*np.random.rand(cycles)\n",
    "    time=[]\n",
    "    Abund=[]\n",
    "    for i in range(cycles):\n",
    "        mu=np.multiply(mu,(0.95+0.1*np.random.rand(NumSpecies)))\n",
    "        timespan=np.arange(0,durations[i],0.1)\n",
    "        if i==0:\n",
    "            time=timespan\n",
    "        else:\n",
    "            time=np.concatenate((time,np.add(timespan,max(time))))\n",
    "        sol=solve_ivp(MultiSpecies,[0,max(timespan)],initial,method='RK45',t_eval = timespan)\n",
    "        y1=sol.y\n",
    "        if i==0:\n",
    "            Abund=y1[range(NumSpecies),:]\n",
    "        else:\n",
    "            Abund=np.concatenate((Abund,y1[range(NumSpecies),:]),axis=1)\n",
    "\n",
    "        initial=y1[range(NumSpecies),-1]\n",
    "   \n",
    "    data=Abund\n",
    "    diversity=np.zeros(np.size(data,1))\n",
    "    for i in range(np.size(data,1)):\n",
    "        temp=data[:,i]\n",
    "        temp=GetPositive(temp)\n",
    "        temp=np.divide(temp,sum(temp))\n",
    "        diversity[i]=np.exp(-sum(np.multiply(temp,np.log(temp))))\n",
    "    plt.plot(time,diversity,'-',linewidth=2,color=np.multiply([1,1,1],0.8))\n",
    "    \n",
    "plt.xlabel('time',fontsize=16)\n",
    "plt.ylabel('diversity',fontsize=16)\n",
    "plt.tick_params(direction='in',top='true',right='true')\n",
    "plt.savefig('Perturbations3.pdf')\n",
    "plt.show()"
   ]
  }
 ],
 "metadata": {
  "kernelspec": {
   "display_name": "Python 3",
   "language": "python",
   "name": "python3"
  },
  "language_info": {
   "codemirror_mode": {
    "name": "ipython",
    "version": 3
   },
   "file_extension": ".py",
   "mimetype": "text/x-python",
   "name": "python",
   "nbconvert_exporter": "python",
   "pygments_lexer": "ipython3",
   "version": "3.11.3"
  },
  "orig_nbformat": 4
 },
 "nbformat": 4,
 "nbformat_minor": 2
}
