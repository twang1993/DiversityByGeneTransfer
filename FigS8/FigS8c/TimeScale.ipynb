{
 "cells": [
  {
   "cell_type": "code",
   "execution_count": 18,
   "metadata": {},
   "outputs": [],
   "source": [
    "import matplotlib.pyplot as plt\n",
    "import numpy as np\n",
    "import scipy as sp\n",
    "from scipy.integrate import solve_ivp"
   ]
  },
  {
   "cell_type": "code",
   "execution_count": 19,
   "metadata": {},
   "outputs": [],
   "source": [
    "global NumSpecies,mu,gamma,D"
   ]
  },
  {
   "cell_type": "code",
   "execution_count": 20,
   "metadata": {},
   "outputs": [],
   "source": [
    "def GetPositive(input):\n",
    "    temp=[]\n",
    "    for i in input:\n",
    "        if i>0:\n",
    "            temp.append(i)\n",
    "    return temp"
   ]
  },
  {
   "cell_type": "code",
   "execution_count": 21,
   "metadata": {},
   "outputs": [],
   "source": [
    "def MultiSpecies(t,y):\n",
    "    global NumSpecies,mu,gamma,D\n",
    "    dydt=np.zeros(NumSpecies)\n",
    "    for i in range(NumSpecies):\n",
    "            sumy=0\n",
    "            for j in range(NumSpecies):\n",
    "                sumy=sumy+y[j]\n",
    "            dydt[i]=mu[i]*y[i]*(1-(gamma*sumy-gamma*y[i]+y[i]))-D*y[i]\n",
    "    return dydt"
   ]
  },
  {
   "cell_type": "code",
   "execution_count": 22,
   "metadata": {},
   "outputs": [],
   "source": [
    "mu0=0.5\n",
    "D=0.2\n",
    "gamma=0.9\n",
    "NumSpecies=20\n",
    "vvs=np.arange(0,1.1,0.1)\n",
    "num=50\n",
    "tau=np.zeros((len(vvs),num))\n",
    "IniV=np.zeros((len(vvs),num))"
   ]
  },
  {
   "cell_type": "code",
   "execution_count": 23,
   "metadata": {},
   "outputs": [
    {
     "name": "stdout",
     "output_type": "stream",
     "text": [
      "0\n",
      "1\n",
      "2\n",
      "3\n",
      "4\n",
      "5\n",
      "6\n",
      "7\n",
      "8\n",
      "9\n",
      "10\n"
     ]
    }
   ],
   "source": [
    "for asd in range(len(vvs)):\n",
    "    vv=vvs[asd]\n",
    "    print(asd)\n",
    "    for repeat in range(num):\n",
    "        mu=mu0*(1-vv+2*vv*np.random.rand(NumSpecies))\n",
    "        IniV[asd,repeat]=np.std(mu)\n",
    "        \n",
    "        initial=np.zeros(NumSpecies)\n",
    "        for i in range(NumSpecies):\n",
    "            initial[i]=1/NumSpecies\n",
    "        \n",
    "        cycles=30\n",
    "        durations=15+15*np.random.rand(cycles)\n",
    "        time=[]\n",
    "        Abund=[]\n",
    "        for i in range(cycles):\n",
    "            mu=np.multiply(mu,(0.95+0.1*np.random.rand(NumSpecies)))\n",
    "            timespan=np.arange(0,durations[i],0.1)\n",
    "            if i==0:\n",
    "                time=timespan\n",
    "            else:\n",
    "                time=np.concatenate((time,np.add(timespan,max(time))))\n",
    "            sol=solve_ivp(MultiSpecies,[0,max(timespan)],initial,method='RK45',t_eval = timespan)\n",
    "            y1=sol.y\n",
    "            if i==0:\n",
    "                Abund=y1[range(NumSpecies),:]\n",
    "            else:\n",
    "                Abund=np.concatenate((Abund,y1[range(NumSpecies),:]),axis=1)\n",
    "\n",
    "            initial=y1[range(NumSpecies),-1]\n",
    "    \n",
    "        data=Abund\n",
    "        diversity=np.zeros(np.size(data,1))\n",
    "        for i in range(np.size(data,1)):\n",
    "            temp=data[:,i]\n",
    "            temp=GetPositive(temp)\n",
    "            temp=np.divide(temp,sum(temp))\n",
    "            diversity[i]=np.exp(-sum(np.multiply(temp,np.log(temp))))\n",
    "        for i in range(len(diversity)):\n",
    "            if diversity[i]<10:\n",
    "                tau[asd,repeat]=time[i]\n",
    "                break"
   ]
  },
  {
   "cell_type": "code",
   "execution_count": 24,
   "metadata": {},
   "outputs": [
    {
     "data": {
      "image/png": "[encoded data removed]",
      "text/plain": [
       "<Figure size 300x300 with 1 Axes>"
      ]
     },
     "metadata": {},
     "output_type": "display_data"
    }
   ],
   "source": [
    "plt.figure(figsize=(3,3))\n",
    "plt.plot(2*vvs,tau,'.',color=(0.8,0.8,0.8),markersize=10)\n",
    "plt.errorbar(2*vvs,np.mean(tau,1),yerr=np.std(tau,1),marker='o',fillstyle='none',markersize=10)\n",
    "    \n",
    "plt.xlabel('initial variance',fontsize=16)\n",
    "plt.ylabel('$\\tau$',fontsize=16)\n",
    "plt.tick_params(direction='in',top='true',right='true')\n",
    "plt.savefig('TimeScale.pdf')\n",
    "plt.show()"
   ]
  },
  {
   "cell_type": "code",
   "execution_count": 25,
   "metadata": {},
   "outputs": [],
   "source": [
    "import pandas as pd\n",
    "df1=pd.DataFrame(2*vvs)\n",
    "df1.to_csv(\"InitialWidth.csv\")\n",
    "df2=pd.DataFrame(tau)\n",
    "df2.to_csv(\"Tau.csv\")"
   ]
  }
 ],
 "metadata": {
  "kernelspec": {
   "display_name": "Python 3",
   "language": "python",
   "name": "python3"
  },
  "language_info": {
   "codemirror_mode": {
    "name": "ipython",
    "version": 3
   },
   "file_extension": ".py",
   "mimetype": "text/x-python",
   "name": "python",
   "nbconvert_exporter": "python",
   "pygments_lexer": "ipython3",
   "version": "3.11.3"
  },
  "orig_nbformat": 4
 },
 "nbformat": 4,
 "nbformat_minor": 2
}
