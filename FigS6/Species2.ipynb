{
 "cells": [
  {
   "cell_type": "code",
   "execution_count": 1,
   "metadata": {},
   "outputs": [],
   "source": [
    "import matplotlib.pyplot as plt\n",
    "import numpy as np\n",
    "import scipy as sp\n",
    "from scipy.integrate import solve_ivp"
   ]
  },
  {
   "cell_type": "code",
   "execution_count": 2,
   "metadata": {},
   "outputs": [],
   "source": [
    "global NumSpecies,mu,gamma,D,eta,kappa,delta"
   ]
  },
  {
   "cell_type": "code",
   "execution_count": 3,
   "metadata": {},
   "outputs": [],
   "source": [
    "def MultiSpecies(t,y):\n",
    "    dydt=np.zeros(NumSpecies*(1+NumSpecies))\n",
    "    thresh=0\n",
    "    for i in range(NumSpecies):\n",
    "        ss=1\n",
    "        sumy=0\n",
    "        for j in range(NumSpecies):\n",
    "            sumy=sumy+y[j]\n",
    "        xxx=sum(y[np.arange(NumSpecies+i,NumSpecies*(1+NumSpecies),NumSpecies)])-y[NumSpecies+i*NumSpecies+i];\n",
    "        dydt[i]=mu[i]*y[i]*(1-(gamma*sumy-gamma*y[i]+y[i]+delta*xxx))-D*y[i]\n",
    "        for j in range(NumSpecies):\n",
    "                if j==i:\n",
    "                    dydt[NumSpecies+i*NumSpecies+j]=dydt[i]\n",
    "                else:\n",
    "                    donor=0\n",
    "                    for k in range(NumSpecies):\n",
    "                        donor=donor+y[NumSpecies+k*NumSpecies+j]\n",
    "                    dydt[NumSpecies+i*NumSpecies+j]=mu[i]*y[NumSpecies+i*NumSpecies+j]*(1-(gamma*sumy-gamma*y[i]+y[i]+delta*xxx))+eta*(y[i]-y[NumSpecies+i*NumSpecies+j])*donor-(kappa+D)*y[NumSpecies+i*NumSpecies+j]\n",
    "    return dydt\n"
   ]
  },
  {
   "cell_type": "code",
   "execution_count": 4,
   "metadata": {},
   "outputs": [
    {
     "name": "stdout",
     "output_type": "stream",
     "text": [
      "0\n",
      "1\n",
      "2\n",
      "3\n",
      "4\n",
      "0\n",
      "1\n",
      "2\n",
      "3\n",
      "4\n",
      "0\n",
      "1\n",
      "2\n",
      "3\n",
      "4\n"
     ]
    }
   ],
   "source": [
    "NumSpecies=2\n",
    "deltas=[0,0.2,0.4]\n",
    "etas=np.arange(0,0.25,0.05)\n",
    "repeat=2000\n",
    "richness=np.zeros((len(deltas),len(etas),repeat))\n",
    "CoexistProb=np.zeros((len(deltas),len(etas)))\n",
    "thresh=0.01\n",
    "for uio in range(len(deltas)):\n",
    "    delta=deltas[uio]\n",
    "    gamma=0.6\n",
    "    kappa=0.005\n",
    "    D=0.2\n",
    "    initial=np.zeros(NumSpecies**2+NumSpecies)\n",
    "    for i in range(NumSpecies):\n",
    "        initial[i]=1/NumSpecies\n",
    "        initial[NumSpecies+i*NumSpecies+i]=initial[i]\n",
    "    timespan=np.arange(0,200.1,0.1)\n",
    "\n",
    "    for i in range(len(etas)):\n",
    "        print(i)\n",
    "        eta=etas[i]\n",
    "        for hjk in range(repeat):\n",
    "            mu=np.random.rand(NumSpecies)\n",
    "            sol=solve_ivp(MultiSpecies,[0,max(timespan)],initial,method='RK45',t_eval=timespan)\n",
    "            y=np.transpose(sol.y)\n",
    "            temp=y[-1,range(NumSpecies)]\n",
    "            temp=np.divide(temp,sum(temp))\n",
    "            richness[uio,i,hjk]=sum(y[-1,range(NumSpecies)]>thresh)\n",
    "        CoexistProb[uio,i]=sum(richness[uio,i,:]==NumSpecies)/repeat\n"
   ]
  },
  {
   "cell_type": "code",
   "execution_count": 5,
   "metadata": {},
   "outputs": [
    {
     "data": {
      "image/png": "[encoded data removed]",
      "text/plain": [
       "<Figure size 200x200 with 1 Axes>"
      ]
     },
     "metadata": {},
     "output_type": "display_data"
    }
   ],
   "source": [
    "plt.figure(figsize=(2,2))\n",
    "for i in range(len(deltas)):\n",
    "    if i==0:\n",
    "        plt.plot(etas,CoexistProb[i,:],'o-',markersize=7,fillstyle='none',color=(0.3467,0.5360,0.6907))\n",
    "    if i==1:\n",
    "        plt.plot(etas,CoexistProb[i,:],'o-',markersize=7,fillstyle='none',color=(0.9153,0.2816,0.2878))\n",
    "    if i==2:\n",
    "        plt.plot(etas,CoexistProb[i,:],'o-',markersize=7,fillstyle='none',color=(0.4416,0.7490,0.4322))\n",
    "plt.xlabel('transfer rate eta',fontsize=20)\n",
    "plt.ylabel('coexistence feasibility',fontsize=20)\n",
    "plt.tick_params(direction='in',top='true',right='true')\n",
    "plt.savefig('Species2.pdf')\n",
    "plt.show()"
   ]
  },
  {
   "cell_type": "code",
   "execution_count": 6,
   "metadata": {},
   "outputs": [],
   "source": [
    "import pandas as pd\n",
    "df=pd.DataFrame(CoexistProb)\n",
    "df.to_csv(\"Species2.csv\")"
   ]
  }
 ],
 "metadata": {
  "kernelspec": {
   "display_name": "Python 3",
   "language": "python",
   "name": "python3"
  },
  "language_info": {
   "codemirror_mode": {
    "name": "ipython",
    "version": 3
   },
   "file_extension": ".py",
   "mimetype": "text/x-python",
   "name": "python",
   "nbconvert_exporter": "python",
   "pygments_lexer": "ipython3",
   "version": "3.11.3"
  }
 },
 "nbformat": 4,
 "nbformat_minor": 2
}
