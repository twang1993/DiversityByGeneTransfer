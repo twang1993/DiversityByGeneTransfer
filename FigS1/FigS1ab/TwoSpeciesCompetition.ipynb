{
 "cells": [
  {
   "cell_type": "code",
   "execution_count": 6,
   "metadata": {},
   "outputs": [],
   "source": [
    "import matplotlib.pyplot as plt\n",
    "import numpy as np\n",
    "import scipy as sp\n",
    "from scipy.integrate import odeint\n",
    "import seaborn as sns"
   ]
  },
  {
   "cell_type": "code",
   "execution_count": 7,
   "metadata": {},
   "outputs": [],
   "source": [
    "global mu10,mu20,lambda1,lambda2,gamma,D,eta,kappa"
   ]
  },
  {
   "cell_type": "code",
   "execution_count": 8,
   "metadata": {},
   "outputs": [],
   "source": [
    "def TwoSpeciesHGT(y,t):\n",
    "    s1=y[0]\n",
    "    s2=y[1]\n",
    "    p1=y[2]\n",
    "    p2=y[3]\n",
    "    mu1=mu10*(1+lambda1)\n",
    "    mu2=mu20*(1+lambda2)\n",
    "    dydt=[mu1/s1*(s1+lambda2*p1)*s1*(1-s1-gamma*s2)-D*s1,\n",
    "        mu2/s2*(s2+lambda1*p2)*s2*(1-gamma*s1-s2)-D*s2,\n",
    "        mu1*(1+lambda2)*p1*(1-s1-gamma*s2)+eta*(s2+p1)*(s1-p1)-kappa*p1-D*p1,\n",
    "        mu2*(1+lambda1)*p2*(1-gamma*s1-s2)+eta*(s1+p2)*(s2-p2)-kappa*p2-D*p2]\n",
    "    return dydt"
   ]
  },
  {
   "cell_type": "code",
   "execution_count": 9,
   "metadata": {},
   "outputs": [
    {
     "data": {
      "image/png": "[encoded data removed]",
      "text/plain": [
       "<Figure size 400x200 with 1 Axes>"
      ]
     },
     "metadata": {},
     "output_type": "display_data"
    }
   ],
   "source": [
    "mu10=0.5\n",
    "mu20=0.5\n",
    "lambda1=-0.2\n",
    "lambda2=0.2\n",
    "alpha=0.8\n",
    "kappa=0.05\n",
    "D=0.2\n",
    "gamma=0.8\n",
    "initial=[0.5,0.5,0,0]\n",
    "timespan=np.arange(0,500.1,0.1)\n",
    "\n",
    "eta=0\n",
    "y=odeint(TwoSpeciesHGT,initial,timespan)\n",
    "plt.figure(figsize=(4,2))\n",
    "plt.fill_between(timespan,0,np.divide(y[:,0],np.sum(y[:,[0,1]],1)),color=(0.8477,0.4258,0.2266))\n",
    "plt.fill_between(timespan,np.divide(y[:,0],np.sum(y[:,[0,1]],1)),1,color=(0.6758,0.7852,0.2305))\n",
    "plt.xlim(0,max(timespan))\n",
    "plt.ylim(0,1)\n",
    "plt.tick_params(axis='x',which='both',bottom=False,top=False,labelbottom=False)\n",
    "plt.tick_params(axis='y',which='both',left=False,right=False,labelleft=False)\n",
    "plt.savefig('TwoSpeciesCompetition_1.pdf')\n",
    "plt.show()"
   ]
  },
  {
   "cell_type": "code",
   "execution_count": 10,
   "metadata": {},
   "outputs": [
    {
     "data": {
      "image/png": "[encoded data removed]",
      "text/plain": [
       "<Figure size 400x200 with 1 Axes>"
      ]
     },
     "metadata": {},
     "output_type": "display_data"
    }
   ],
   "source": [
    "eta=0.2\n",
    "y=odeint(TwoSpeciesHGT,initial,timespan)\n",
    "plt.figure(figsize=(4,2))\n",
    "plt.fill_between(timespan,0,np.divide(y[:,0],np.sum(y[:,[0,1]],1)),color=(0.8477,0.4258,0.2266))\n",
    "plt.fill_between(timespan,np.divide(y[:,0],np.sum(y[:,[0,1]],1)),1,color=(0.6758,0.7852,0.2305))\n",
    "plt.xlim(0,max(timespan))\n",
    "plt.ylim(0,1)\n",
    "plt.tick_params(axis='x',which='both',bottom=False,top=False,labelbottom=False)\n",
    "plt.tick_params(axis='y',which='both',left=False,right=False,labelleft=False)\n",
    "plt.savefig('TwoSpeciesCompetition_2.pdf')\n",
    "plt.show()"
   ]
  }
 ],
 "metadata": {
  "kernelspec": {
   "display_name": "Python 3",
   "language": "python",
   "name": "python3"
  },
  "language_info": {
   "codemirror_mode": {
    "name": "ipython",
    "version": 3
   },
   "file_extension": ".py",
   "mimetype": "text/x-python",
   "name": "python",
   "nbconvert_exporter": "python",
   "pygments_lexer": "ipython3",
   "version": "3.11.3"
  }
 },
 "nbformat": 4,
 "nbformat_minor": 2
}
