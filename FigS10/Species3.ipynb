{
 "cells": [
  {
   "cell_type": "code",
   "execution_count": 15,
   "metadata": {},
   "outputs": [],
   "source": [
    "import matplotlib.pyplot as plt\n",
    "import numpy as np\n",
    "import scipy as sp\n",
    "from scipy.integrate import solve_ivp"
   ]
  },
  {
   "cell_type": "code",
   "execution_count": 16,
   "metadata": {},
   "outputs": [],
   "source": [
    "global NumSpecies,mu0,lambdaa,gamma,D,eta,kappa,NumMGE,Mp"
   ]
  },
  {
   "cell_type": "code",
   "execution_count": 17,
   "metadata": {},
   "outputs": [],
   "source": [
    "def MultiSpecies(t,y):\n",
    "    dydt=np.zeros(NumSpecies*(1+NumMGE))\n",
    "    for i in range(NumSpecies):\n",
    "        ss=1\n",
    "        for j in range(NumMGE):\n",
    "            ss=ss*(1+lambdaa[i,j]*y[NumSpecies+i*NumMGE+j]/y[i])\n",
    "        dydt[i]=mu0[i]*y[i]*ss*(1-(gamma*sum(y[range(NumSpecies)])-gamma*y[i]+y[i]))-D*y[i]\n",
    "        for j in range(NumMGE):\n",
    "            if Mp[j]==i:\n",
    "                dydt[NumSpecies+i*NumMGE+j]=dydt[i]\n",
    "            else:\n",
    "                ss=1\n",
    "                for k in range(NumMGE):\n",
    "                    if k!=j:\n",
    "                        ss=ss*(1+lambdaa[i,k]*y[NumSpecies+i*NumMGE+k]/y[i])\n",
    "                donor=0\n",
    "                for k in range(NumSpecies):\n",
    "                    donor=donor+y[NumSpecies+k*NumMGE+j]\n",
    "                dydt[NumSpecies+i*NumMGE+j]=mu0[i]*y[NumSpecies+i*NumMGE+j]*ss*(1+lambdaa[i,j])*(1-(gamma*sum(y[range(NumSpecies)])-gamma*y[i]+y[i]))+eta*(y[i]-y[NumSpecies+i*NumMGE+j])*donor-(kappa+D)*y[NumSpecies+i*NumMGE+j]\n",
    "    return dydt"
   ]
  },
  {
   "cell_type": "code",
   "execution_count": 18,
   "metadata": {},
   "outputs": [],
   "source": [
    "mu00=0.5\n",
    "NumSpecies=3\n",
    "NumMGEs=np.multiply([1,2,3],NumSpecies)\n",
    "repeat=500\n",
    "etas=np.arange(0,0.5,0.1)\n",
    "CoexistProb=np.zeros((len(NumMGEs),len(etas)))\n",
    "thresh=0.01\n",
    "gamma=0.9\n",
    "kappa=0.005 \n",
    "D=0.2\n",
    "timespan=np.arange(0,200.1,0.1)"
   ]
  },
  {
   "cell_type": "code",
   "execution_count": 19,
   "metadata": {},
   "outputs": [
    {
     "name": "stdout",
     "output_type": "stream",
     "text": [
      "0\n",
      "1\n",
      "2\n",
      "3\n",
      "4\n",
      "0\n",
      "1\n",
      "2\n",
      "3\n",
      "4\n",
      "0\n",
      "1\n",
      "2\n",
      "3\n",
      "4\n"
     ]
    }
   ],
   "source": [
    "for sdfa in range(len(NumMGEs)):\n",
    "    NumMGE=NumMGEs[sdfa]\n",
    "    richness=np.zeros((len(etas),repeat))\n",
    "    for i in range(len(etas)):\n",
    "        print(i)\n",
    "        eta=etas[i]\n",
    "        Mp=np.zeros(NumMGE)\n",
    "        for ii in range(NumMGE):\n",
    "            Mp[ii]=(ii+1)%NumSpecies-1\n",
    "            if Mp[ii]==-1:\n",
    "                Mp[ii]=NumSpecies-1\n",
    "\n",
    "        initial=np.zeros((NumSpecies*NumMGE+NumSpecies))\n",
    "        for ii in range(NumSpecies):\n",
    "            initial[ii]=1/NumSpecies\n",
    "            for j in range(NumMGE):\n",
    "                if Mp[j]==ii:\n",
    "                    initial[NumSpecies+ii*NumMGE+j]=initial[ii]\n",
    "                else:\n",
    "                    initial[NumSpecies+ii*NumMGE+j]=0\n",
    "\n",
    "        for hjk in range(repeat):\n",
    "            lambdaa=np.zeros((NumSpecies,NumMGE))\n",
    "            mu=np.multiply(mu00,0.5+1*np.random.rand(NumSpecies))\n",
    "            mu0=mu\n",
    "            TTT=np.arange(0,NumMGE,1)\n",
    "            for vbn in range(NumSpecies):\n",
    "                if sum([1 for x in Mp if x==vbn])>0:\n",
    "                    tempp=[]\n",
    "                    for sde in range(len(Mp)):\n",
    "                        if Mp[sde]==vbn:\n",
    "                            tempp=np.append(tempp,TTT[sde])\n",
    "                    #tempp=TTT(Mp==vbn);\n",
    "                    nnnn = len(tempp)\n",
    "                    \n",
    "                    for rty in range(len(tempp)):\n",
    "                        lambdaa[:,int(tempp[rty])]=(mu[vbn]/mu00)**(1/3)-1\n",
    "                        zxc=(mu[vbn]/mu00)**(1/3)-1\n",
    "                    mu0[vbn]=mu[vbn]/(1+zxc)**nnnn\n",
    "\n",
    "            sol=solve_ivp(MultiSpecies,[0,max(timespan)],initial,method='RK45',t_eval=timespan)\n",
    "            y=np.transpose(sol.y)\n",
    "            temp=y[-1,range(NumSpecies)]\n",
    "            temp=np.divide(temp,sum(temp))\n",
    "            richness[i,hjk]=sum(y[-1,range(NumSpecies)]>thresh)\n",
    "        CoexistProb[sdfa,i]=sum(richness[i,:]==NumSpecies)/repeat"
   ]
  },
  {
   "cell_type": "code",
   "execution_count": 20,
   "metadata": {},
   "outputs": [
    {
     "data": {
      "image/png": "[encoded data removed]",
      "text/plain": [
       "<Figure size 200x200 with 1 Axes>"
      ]
     },
     "metadata": {},
     "output_type": "display_data"
    }
   ],
   "source": [
    "plt.figure(figsize=(2,2))\n",
    "for i in range(len(NumMGEs)):\n",
    "    if i==0:\n",
    "        plt.plot(etas,CoexistProb[i,:],'o-',markersize=7,fillstyle='none',color=(0.3467,0.5360,0.6907))\n",
    "    if i==1:\n",
    "        plt.plot(etas,CoexistProb[i,:],'o-',markersize=7,fillstyle='none',color=(0.9153,0.2816,0.2878))\n",
    "    if i==2:\n",
    "        plt.plot(etas,CoexistProb[i,:],'o-',markersize=7,fillstyle='none',color=(0.4416,0.7490,0.4322))\n",
    "plt.xlabel('transfer rate eta',fontsize=20)\n",
    "plt.ylabel('coexistence feasibility',fontsize=20)\n",
    "plt.tick_params(direction='in',top='true',right='true')\n",
    "plt.savefig('Species3.pdf')\n",
    "plt.show()\n",
    "import pandas as pd\n",
    "df=pd.DataFrame(CoexistProb)\n",
    "df.to_csv(\"Species3.csv\")"
   ]
  }
 ],
 "metadata": {
  "kernelspec": {
   "display_name": "Python 3",
   "language": "python",
   "name": "python3"
  },
  "language_info": {
   "codemirror_mode": {
    "name": "ipython",
    "version": 3
   },
   "file_extension": ".py",
   "mimetype": "text/x-python",
   "name": "python",
   "nbconvert_exporter": "python",
   "pygments_lexer": "ipython3",
   "version": "3.11.3"
  }
 },
 "nbformat": 4,
 "nbformat_minor": 2
}
