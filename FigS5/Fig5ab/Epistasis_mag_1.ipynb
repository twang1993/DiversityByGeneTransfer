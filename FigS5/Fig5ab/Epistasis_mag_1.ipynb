{
 "cells": [
  {
   "cell_type": "code",
   "execution_count": 1,
   "metadata": {},
   "outputs": [],
   "source": [
    "import matplotlib.pyplot as plt\n",
    "import numpy as np\n",
    "import scipy as sp\n",
    "from scipy.integrate import solve_ivp"
   ]
  },
  {
   "cell_type": "code",
   "execution_count": 2,
   "metadata": {},
   "outputs": [],
   "source": [
    "global mu10,mu20,mu1,mu2,gamma,D,eta,kappa,epis"
   ]
  },
  {
   "cell_type": "code",
   "execution_count": 3,
   "metadata": {},
   "outputs": [],
   "source": [
    "def TwoSpecies(t,y):\n",
    "    s1=y[0]\n",
    "    s2=y[1]\n",
    "    p1=y[2]\n",
    "    p2=y[3]\n",
    "    lambda11=mu1/mu10-1\n",
    "    lambda21=epis*lambda11\n",
    "    lambda22=mu2/mu20-1\n",
    "    lambda12=lambda22\n",
    "\n",
    "    dydt=[mu1/s1*(s1+lambda12*p1)*s1*(1-s1-gamma*s2)-D*s1,\n",
    "        mu2/s2*(s2+lambda21*p2)*s2*(1-gamma*s1-s2)-D*s2,\n",
    "        mu1*(1+lambda12)*p1*(1-s1-gamma*s2)+eta*(s2+p1)*(s1-p1)-kappa*p1-D*p1,\n",
    "        mu2*(1+lambda21)*p2*(1-gamma*s1-s2)+eta*(s1+p2)*(s2-p2)-kappa*p2-D*p2]\n",
    "    return dydt\n"
   ]
  },
  {
   "cell_type": "code",
   "execution_count": 4,
   "metadata": {},
   "outputs": [],
   "source": [
    "mu10=0.5\n",
    "mu20=0.5\n",
    "episs=[0.5,0.8,1,1.2]\n",
    "gamma=0.99\n",
    "kappa=0.005\n",
    "D=0.2\n",
    "initial=[0.5,0.5,0,0]\n",
    "timespan=np.arange(0,200.1,0.1)\n",
    "\n",
    "num=2000\n",
    "mu1s=np.random.rand(num)\n",
    "mu2s=np.random.rand(num)\n",
    "etas=np.arange(0,0.6,0.1)\n",
    "S1=np.zeros((len(episs),len(etas),num))\n",
    "S2=np.zeros((len(episs),len(etas),num))"
   ]
  },
  {
   "cell_type": "code",
   "execution_count": 5,
   "metadata": {},
   "outputs": [
    {
     "name": "stdout",
     "output_type": "stream",
     "text": [
      "0\n",
      "1\n",
      "2\n",
      "3\n"
     ]
    },
    {
     "data": {
      "image/png": "[encoded data removed]",
      "text/plain": [
       "<Figure size 200x200 with 1 Axes>"
      ]
     },
     "metadata": {},
     "output_type": "display_data"
    }
   ],
   "source": [
    "for i in range(len(episs)):\n",
    "    print(i)\n",
    "    epis=episs[i]\n",
    "    for j in range(len(etas)):\n",
    "        eta=etas[j]\n",
    "        for k in range(num):\n",
    "            mu1=mu1s[k]\n",
    "            mu2=mu2s[k]\n",
    "            sol=solve_ivp(TwoSpecies,[0,max(timespan)],initial,method='RK45',t_eval=timespan)\n",
    "            y=np.transpose(sol.y)\n",
    "            S1[i,j,k]=y[-1,0]\n",
    "            S2[i,j,k]=y[-1,1]\n",
    "\n",
    "thresh=0.01\n",
    "prob=np.zeros((len(episs),len(etas)))\n",
    "for i in range(len(episs)):\n",
    "    for j in range(len(etas)):\n",
    "        pin=0\n",
    "        for k in range(num):\n",
    "            if min(S1[i,j,k],S2[i,j,k])>thresh:\n",
    "                pin=pin+1\n",
    "        prob[i,j]=pin/num\n",
    "\n",
    "plt.figure(figsize=(2,2))\n",
    "for i in range(len(episs)):\n",
    "    if i==0:\n",
    "        plt.plot(etas,prob[i,:],'o-',markersize=7,fillstyle='none',color=(0.3467,0.5360,0.6907))\n",
    "    if i==1:\n",
    "        plt.plot(etas,prob[i,:],'o-',markersize=7,fillstyle='none',color=(0.9153,0.2816,0.2878))\n",
    "    if i==2:\n",
    "        plt.plot(etas,prob[i,:],'o-',markersize=7,fillstyle='none',color=(0.4416,0.7490,0.4322))\n",
    "    if i==3:\n",
    "        plt.plot(etas,prob[i,:],'o-',markersize=7,fillstyle='none',color=(1.0000,0.5984,0.2000))\n",
    "plt.xlabel('transfer rate eta',fontsize=20)\n",
    "plt.ylabel('coexistence feasibility',fontsize=20)\n",
    "plt.savefig('Epistasis_mag_1.pdf')\n",
    "plt.tick_params(direction='in',top='true',right='true')\n",
    "plt.show()"
   ]
  },
  {
   "cell_type": "code",
   "execution_count": 6,
   "metadata": {},
   "outputs": [],
   "source": [
    "import pandas as pd\n",
    "df=pd.DataFrame(prob)\n",
    "df.to_csv(\"SourceData1.csv\")"
   ]
  }
 ],
 "metadata": {
  "kernelspec": {
   "display_name": "Python 3",
   "language": "python",
   "name": "python3"
  },
  "language_info": {
   "codemirror_mode": {
    "name": "ipython",
    "version": 3
   },
   "file_extension": ".py",
   "mimetype": "text/x-python",
   "name": "python",
   "nbconvert_exporter": "python",
   "pygments_lexer": "ipython3",
   "version": "3.11.3"
  }
 },
 "nbformat": 4,
 "nbformat_minor": 2
}
